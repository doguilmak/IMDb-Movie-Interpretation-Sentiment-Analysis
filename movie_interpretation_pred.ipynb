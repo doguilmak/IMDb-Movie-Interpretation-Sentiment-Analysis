{
 "cells": [
  {
   "cell_type": "markdown",
   "id": "5ee6e406",
   "metadata": {},
   "source": [
    "## Prediction of the Interpretations of Movies"
   ]
  },
  {
   "cell_type": "markdown",
   "id": "2303a0b9",
   "metadata": {},
   "source": [
    "<img src='https://raw.githubusercontent.com/Masterx-AI/Project_Movie_Rating_Sentiment_Analysis_/main/mv.jpg'>\n",
    "\n",
    "<h2>Description:</h2>\n",
    "The dataset is comprised of tab-separated files with phrases from the Rotten Tomatoes dataset. The train/test split has been preserved for the purposes of benchmarking, but the sentences have been shuffled from their original order. Each Sentence has been parsed into many phrases by the Stanford parser. Each phrase has a PhraseId. Each sentence has a SentenceId. Phrases that are repeated (such as short/common words) are only included once in the data.\n",
    "\n",
    "train.tsv contains the phrases and their associated sentiment labels. We have additionally provided a SentenceId so that you can track which phrases belong to a single sentence.\n",
    "test.tsv contains just phrases. You must assign a sentiment label to each phrase.\n",
    "The sentiment labels are:\n",
    "\n",
    "<ul>\n",
    "    <li>negative</li>\n",
    "    <li>somewhat negative</li>\n",
    "    <li>neutral</li>\n",
    "    <li>somewhat positive</li>\n",
    "    <li>positive</li>\n",
    "</ul>\n",
    "\n",
    "<h2>Dataset links:</h2>\n",
    "\n",
    " - Kaggle: https://www.kaggle.com/yasserh/imdb-movie-ratings-sentiment-analysis#\n",
    " - The dataset can be downloaded here: https://archive.ics.uci.edu/ml/datasets/spambase\n",
    "\n",
    "<h2>Objective:</h2>\n",
    "\n",
    "Understand the Dataset & cleanup (if required).\n",
    "    \n",
    " - Build classification models to predict the ratings of the movie.\n",
    " - Compare the evaluation metrics of vaious classification algorithms."
   ]
  },
  {
   "cell_type": "markdown",
   "id": "88ebc0bf",
   "metadata": {},
   "source": [
    "## Building Passive Aggressive Classifier to Prediction"
   ]
  },
  {
   "cell_type": "markdown",
   "id": "88eb8a92",
   "metadata": {},
   "source": [
    "### Importing libraries"
   ]
  },
  {
   "cell_type": "code",
   "execution_count": 1,
   "id": "4a484730",
   "metadata": {},
   "outputs": [],
   "source": [
    "import warnings\n",
    "warnings.filterwarnings(\"ignore\")\n",
    "import pandas as pd\n",
    "import seaborn as sns\n",
    "import matplotlib.pyplot as plt \n",
    "from sklearn.model_selection import train_test_split\n",
    "from sklearn.feature_extraction.text import TfidfVectorizer\n",
    "from sklearn.linear_model import PassiveAggressiveClassifier\n",
    "from sklearn.metrics import accuracy_score, confusion_matrix\n",
    "from zipfile import ZipFile"
   ]
  },
  {
   "cell_type": "markdown",
   "id": "755d4ed3",
   "metadata": {},
   "source": [
    "### Extract .zip file"
   ]
  },
  {
   "cell_type": "code",
   "execution_count": 2,
   "id": "3cc7ac38",
   "metadata": {},
   "outputs": [],
   "source": [
    "with ZipFile('movie.zip', 'r') as zipObj:\n",
    "   # Extract all the contents of zip file in current directory\n",
    "   zipObj.extractall()"
   ]
  },
  {
   "cell_type": "markdown",
   "id": "e6125a71",
   "metadata": {},
   "source": [
    "### Importing the data"
   ]
  },
  {
   "cell_type": "code",
   "execution_count": 3,
   "id": "a749a1cc",
   "metadata": {},
   "outputs": [
    {
     "data": {
      "text/html": [
       "<div>\n",
       "<style scoped>\n",
       "    .dataframe tbody tr th:only-of-type {\n",
       "        vertical-align: middle;\n",
       "    }\n",
       "\n",
       "    .dataframe tbody tr th {\n",
       "        vertical-align: top;\n",
       "    }\n",
       "\n",
       "    .dataframe thead th {\n",
       "        text-align: right;\n",
       "    }\n",
       "</style>\n",
       "<table border=\"1\" class=\"dataframe\">\n",
       "  <thead>\n",
       "    <tr style=\"text-align: right;\">\n",
       "      <th></th>\n",
       "      <th>text</th>\n",
       "      <th>label</th>\n",
       "    </tr>\n",
       "  </thead>\n",
       "  <tbody>\n",
       "    <tr>\n",
       "      <th>0</th>\n",
       "      <td>I grew up (b. 1965) watching and loving the Th...</td>\n",
       "      <td>0</td>\n",
       "    </tr>\n",
       "    <tr>\n",
       "      <th>1</th>\n",
       "      <td>When I put this movie in my DVD player, and sa...</td>\n",
       "      <td>0</td>\n",
       "    </tr>\n",
       "    <tr>\n",
       "      <th>2</th>\n",
       "      <td>Why do people who do not know what a particula...</td>\n",
       "      <td>0</td>\n",
       "    </tr>\n",
       "    <tr>\n",
       "      <th>3</th>\n",
       "      <td>Even though I have great interest in Biblical ...</td>\n",
       "      <td>0</td>\n",
       "    </tr>\n",
       "    <tr>\n",
       "      <th>4</th>\n",
       "      <td>Im a die hard Dads Army fan and nothing will e...</td>\n",
       "      <td>1</td>\n",
       "    </tr>\n",
       "    <tr>\n",
       "      <th>...</th>\n",
       "      <td>...</td>\n",
       "      <td>...</td>\n",
       "    </tr>\n",
       "    <tr>\n",
       "      <th>39995</th>\n",
       "      <td>\"Western Union\" is something of a forgotten cl...</td>\n",
       "      <td>1</td>\n",
       "    </tr>\n",
       "    <tr>\n",
       "      <th>39996</th>\n",
       "      <td>This movie is an incredible piece of work. It ...</td>\n",
       "      <td>1</td>\n",
       "    </tr>\n",
       "    <tr>\n",
       "      <th>39997</th>\n",
       "      <td>My wife and I watched this movie because we pl...</td>\n",
       "      <td>0</td>\n",
       "    </tr>\n",
       "    <tr>\n",
       "      <th>39998</th>\n",
       "      <td>When I first watched Flatliners, I was amazed....</td>\n",
       "      <td>1</td>\n",
       "    </tr>\n",
       "    <tr>\n",
       "      <th>39999</th>\n",
       "      <td>Why would this film be so good, but only gross...</td>\n",
       "      <td>1</td>\n",
       "    </tr>\n",
       "  </tbody>\n",
       "</table>\n",
       "<p>40000 rows × 2 columns</p>\n",
       "</div>"
      ],
      "text/plain": [
       "                                                    text  label\n",
       "0      I grew up (b. 1965) watching and loving the Th...      0\n",
       "1      When I put this movie in my DVD player, and sa...      0\n",
       "2      Why do people who do not know what a particula...      0\n",
       "3      Even though I have great interest in Biblical ...      0\n",
       "4      Im a die hard Dads Army fan and nothing will e...      1\n",
       "...                                                  ...    ...\n",
       "39995  \"Western Union\" is something of a forgotten cl...      1\n",
       "39996  This movie is an incredible piece of work. It ...      1\n",
       "39997  My wife and I watched this movie because we pl...      0\n",
       "39998  When I first watched Flatliners, I was amazed....      1\n",
       "39999  Why would this film be so good, but only gross...      1\n",
       "\n",
       "[40000 rows x 2 columns]"
      ]
     },
     "execution_count": 3,
     "metadata": {},
     "output_type": "execute_result"
    }
   ],
   "source": [
    "df=pd.read_csv('movie.csv')\n",
    "LABEL=df['label']\n",
    "df"
   ]
  },
  {
   "cell_type": "markdown",
   "id": "dcc42b13",
   "metadata": {},
   "source": [
    "### Data Preprocessing "
   ]
  },
  {
   "cell_type": "code",
   "execution_count": 4,
   "id": "b156b71a",
   "metadata": {},
   "outputs": [
    {
     "data": {
      "text/plain": [
       "0    20019\n",
       "1    19981\n",
       "Name: label, dtype: int64"
      ]
     },
     "execution_count": 4,
     "metadata": {},
     "output_type": "execute_result"
    }
   ],
   "source": [
    "LABEL.value_counts()"
   ]
  },
  {
   "cell_type": "code",
   "execution_count": 5,
   "id": "9852a4ce",
   "metadata": {},
   "outputs": [
    {
     "data": {
      "text/plain": [
       "(40000, 2)"
      ]
     },
     "execution_count": 5,
     "metadata": {},
     "output_type": "execute_result"
    }
   ],
   "source": [
    "df.shape"
   ]
  },
  {
   "cell_type": "code",
   "execution_count": 6,
   "id": "bad9fc60",
   "metadata": {},
   "outputs": [
    {
     "name": "stdout",
     "output_type": "stream",
     "text": [
      "<class 'pandas.core.frame.DataFrame'>\n",
      "RangeIndex: 40000 entries, 0 to 39999\n",
      "Data columns (total 2 columns):\n",
      " #   Column  Non-Null Count  Dtype \n",
      "---  ------  --------------  ----- \n",
      " 0   text    40000 non-null  object\n",
      " 1   label   40000 non-null  int64 \n",
      "dtypes: int64(1), object(1)\n",
      "memory usage: 625.1+ KB\n"
     ]
    }
   ],
   "source": [
    "df.info()"
   ]
  },
  {
   "cell_type": "code",
   "execution_count": 7,
   "id": "db4ab70f",
   "metadata": {},
   "outputs": [
    {
     "data": {
      "text/plain": [
       "text     0\n",
       "label    0\n",
       "dtype: int64"
      ]
     },
     "execution_count": 7,
     "metadata": {},
     "output_type": "execute_result"
    }
   ],
   "source": [
    "df.isnull().sum()"
   ]
  },
  {
   "cell_type": "code",
   "execution_count": 8,
   "id": "b403f3b5",
   "metadata": {},
   "outputs": [
    {
     "data": {
      "text/plain": [
       "277"
      ]
     },
     "execution_count": 8,
     "metadata": {},
     "output_type": "execute_result"
    }
   ],
   "source": [
    "df.duplicated().sum()"
   ]
  },
  {
   "cell_type": "markdown",
   "id": "89152c5f",
   "metadata": {},
   "source": [
    "We have 277 duplicated rows. Now, let's drop them from our dataset to avoid overfitting."
   ]
  },
  {
   "cell_type": "code",
   "execution_count": 9,
   "id": "e6e57304",
   "metadata": {},
   "outputs": [
    {
     "name": "stdout",
     "output_type": "stream",
     "text": [
      "0 duplicated data.\n"
     ]
    }
   ],
   "source": [
    "dp = df[df.duplicated(keep=False)]\n",
    "dp.head(2)\n",
    "df.drop_duplicates(inplace= True)\n",
    "print(\"{} duplicated data.\".format(df.duplicated().sum()))"
   ]
  },
  {
   "cell_type": "markdown",
   "id": "08a8d875",
   "metadata": {},
   "source": [
    "### Plot Faiure Types on Histogram"
   ]
  },
  {
   "cell_type": "code",
   "execution_count": 10,
   "id": "60473ec9",
   "metadata": {},
   "outputs": [
    {
     "data": {
      "image/png": "[encoded data removed]",
      "text/plain": [
       "<Figure size 1080x864 with 1 Axes>"
      ]
     },
     "metadata": {
      "needs_background": "light"
     },
     "output_type": "display_data"
    }
   ],
   "source": [
    "plt.figure(figsize = (15, 12))\n",
    "sns.set_style('whitegrid')    \n",
    "sns.histplot(data=LABEL)\n",
    "plt.title(\"IMDB Movie Ratings Sentiment Analysis on Histogram\")\n",
    "plt.xlabel(\"Sentiment Types\")\n",
    "plt.ylabel(\"Reviews in Total\")\n",
    "plt.show()"
   ]
  },
  {
   "cell_type": "code",
   "execution_count": 11,
   "id": "adcd181a",
   "metadata": {},
   "outputs": [
    {
     "data": {
      "text/plain": [
       "0    0\n",
       "1    0\n",
       "2    0\n",
       "3    0\n",
       "4    1\n",
       "5    0\n",
       "6    1\n",
       "7    0\n",
       "8    1\n",
       "9    1\n",
       "Name: label, dtype: int64"
      ]
     },
     "execution_count": 11,
     "metadata": {},
     "output_type": "execute_result"
    }
   ],
   "source": [
    "labels=df.label\n",
    "labels.head(10)"
   ]
  },
  {
   "cell_type": "markdown",
   "id": "eae54ad1",
   "metadata": {},
   "source": [
    "### Train - Test Split"
   ]
  },
  {
   "cell_type": "code",
   "execution_count": 12,
   "id": "e2da22a4",
   "metadata": {},
   "outputs": [],
   "source": [
    "x_train, x_test, y_train, y_test=train_test_split(df['text'], labels, test_size=0.2, random_state=7)"
   ]
  },
  {
   "cell_type": "markdown",
   "id": "f8f154e9",
   "metadata": {},
   "source": [
    "### Initialize a TfidfVectorizer"
   ]
  },
  {
   "cell_type": "code",
   "execution_count": 13,
   "id": "1968c773",
   "metadata": {},
   "outputs": [],
   "source": [
    "tfidf_vectorizer = TfidfVectorizer(stop_words='english', max_df=0.7)"
   ]
  },
  {
   "cell_type": "markdown",
   "id": "f09f168e",
   "metadata": {},
   "source": [
    "### Fit and transform train set, transform test set"
   ]
  },
  {
   "cell_type": "code",
   "execution_count": 14,
   "id": "d664fbbc",
   "metadata": {},
   "outputs": [],
   "source": [
    "tfidf_train = tfidf_vectorizer.fit_transform(x_train) \n",
    "tfidf_test = tfidf_vectorizer.transform(x_test)"
   ]
  },
  {
   "cell_type": "markdown",
   "id": "1a70e01f",
   "metadata": {},
   "source": [
    "### Initialize a PassiveAggressiveClassifier"
   ]
  },
  {
   "cell_type": "markdown",
   "id": "c9b13260",
   "metadata": {},
   "source": [
    "The passive-aggressive algorithms are a family of algorithms for large-scale learning. They are similar to the Perceptron in that they do not require a learning rate.\n",
    "\n",
    "To learn more check: \n",
    "<ul>\n",
    "    <li>https://scikit-learn.org/stable/modules/generated/sklearn.linear_model.PassiveAggressiveClassifier.html</li>\n",
    "    <li>https://scikit-learn.org/stable/modules/linear_model.html#passive-aggressive</li>\n",
    "</ul>"
   ]
  },
  {
   "cell_type": "code",
   "execution_count": 15,
   "id": "190ed167",
   "metadata": {},
   "outputs": [
    {
     "data": {
      "text/plain": [
       "PassiveAggressiveClassifier(max_iter=50)"
      ]
     },
     "execution_count": 15,
     "metadata": {},
     "output_type": "execute_result"
    }
   ],
   "source": [
    "pac = PassiveAggressiveClassifier(max_iter=50)\n",
    "pac.fit(tfidf_train, y_train)"
   ]
  },
  {
   "cell_type": "markdown",
   "id": "3edb784d",
   "metadata": {},
   "source": [
    "### Predict on the test set and calculate accuracy"
   ]
  },
  {
   "cell_type": "code",
   "execution_count": 16,
   "id": "68bec0e2",
   "metadata": {},
   "outputs": [
    {
     "name": "stdout",
     "output_type": "stream",
     "text": [
      "Accuracy score: 0.8805538074260542\n"
     ]
    }
   ],
   "source": [
    "y_pred = pac.predict(tfidf_test)\n",
    "score = accuracy_score(y_test, y_pred)\n",
    "print(f'Accuracy score: {score}')"
   ]
  },
  {
   "cell_type": "markdown",
   "id": "af4fee18",
   "metadata": {},
   "source": [
    "### Confusion Matrix of Model"
   ]
  },
  {
   "cell_type": "markdown",
   "id": "8e6cc0d4",
   "metadata": {},
   "source": [
    "<img src='https://miro.medium.com/max/1000/0*FbtRyQH1pU_pOy7b.png'>"
   ]
  },
  {
   "cell_type": "code",
   "execution_count": 17,
   "id": "36bfc60b",
   "metadata": {},
   "outputs": [
    {
     "name": "stdout",
     "output_type": "stream",
     "text": [
      "\n",
      "Confusion Matrix (PassiveAggressiveClassifier):\n",
      " [[3416  490]\n",
      " [ 459 3580]]\n"
     ]
    }
   ],
   "source": [
    "cm=confusion_matrix(y_test, y_pred, labels=[0, 1])\n",
    "print(\"\\nConfusion Matrix (PassiveAggressiveClassifier):\\n\", cm)"
   ]
  },
  {
   "cell_type": "markdown",
   "id": "6f6a1476",
   "metadata": {},
   "source": [
    "### Prediction"
   ]
  },
  {
   "cell_type": "code",
   "execution_count": 18,
   "id": "86cabc96",
   "metadata": {},
   "outputs": [],
   "source": [
    "class_map = {0: \"Negative\", \n",
    "            1: \"Positive\"}"
   ]
  },
  {
   "cell_type": "code",
   "execution_count": 19,
   "id": "a00dd478",
   "metadata": {},
   "outputs": [
    {
     "name": "stdout",
     "output_type": "stream",
     "text": [
      "Model predicted your sentiment as Negative.\n"
     ]
    }
   ],
   "source": [
    "# For an instance:\n",
    "#pred=['It was amazing!']\n",
    "#pred=['It was horrible!']\n",
    "\n",
    "pred = [\"A terrible movie as everyone has said. What made me laugh was the cameo appearance by Scott McNealy, giving an award to one of the murdered programmers in front of a wall of SUN logos. McNealy is the CEO of SUN Microsystem, a company that practically defines itself by its hatred of Microsoft. They have been instrumental in filing antitrust complaints against Microsoft. So, were they silly enough to think this bad movie would add fuel to that fire?<br /><br />There's no public record I see of SUN's involvement, but clearly the makers of this movie know Scott McNealy. An interesting mystery.\"]\n",
    "my_pred = tfidf_vectorizer.transform(pred)\n",
    "\n",
    "my_predClass = pac.predict(my_pred)\n",
    "print(f\"Model predicted your sentiment as {class_map[int(my_predClass[0])]}.\")"
   ]
  },
  {
   "cell_type": "markdown",
   "id": "ea625afa",
   "metadata": {},
   "source": [
    "### Save PAC model via Pickle"
   ]
  },
  {
   "cell_type": "code",
   "execution_count": 20,
   "id": "aae00263",
   "metadata": {},
   "outputs": [],
   "source": [
    "import pickle\n",
    "\n",
    "pickle_file = open('pac.pkl', 'ab')\n",
    "pickle.dump(pac, pickle_file)                     \n",
    "pickle_file.close()"
   ]
  },
  {
   "cell_type": "markdown",
   "id": "793b86f8",
   "metadata": {},
   "source": [
    "## Building XGBoost Classifier to Prediction"
   ]
  },
  {
   "cell_type": "code",
   "execution_count": 21,
   "id": "7b4a5aea",
   "metadata": {},
   "outputs": [],
   "source": [
    "from xgboost import XGBClassifier"
   ]
  },
  {
   "cell_type": "code",
   "execution_count": 22,
   "id": "6cfddc94",
   "metadata": {},
   "outputs": [
    {
     "name": "stdout",
     "output_type": "stream",
     "text": [
      "[17:38:18] WARNING: C:/Users/Administrator/workspace/xgboost-win64_release_1.5.1/src/learner.cc:1115: Starting in XGBoost 1.3.0, the default evaluation metric used with the objective 'binary:logistic' was changed from 'error' to 'logloss'. Explicitly set eval_metric if you'd like to restore the old behavior.\n"
     ]
    },
    {
     "data": {
      "text/plain": [
       "XGBClassifier(base_score=0.5, booster='gbtree', colsample_bylevel=1,\n",
       "              colsample_bynode=1, colsample_bytree=1, enable_categorical=False,\n",
       "              gamma=0, gpu_id=-1, importance_type=None,\n",
       "              interaction_constraints='', learning_rate=0.300000012,\n",
       "              max_delta_step=0, max_depth=6, min_child_weight=1, missing=nan,\n",
       "              monotone_constraints='()', n_estimators=100, n_jobs=8,\n",
       "              num_parallel_tree=1, predictor='auto', random_state=0,\n",
       "              reg_alpha=0, reg_lambda=1, scale_pos_weight=1, subsample=1,\n",
       "              tree_method='exact', validate_parameters=1, verbosity=None)"
      ]
     },
     "execution_count": 22,
     "metadata": {},
     "output_type": "execute_result"
    }
   ],
   "source": [
    "classifier= XGBClassifier()\n",
    "classifier.fit(tfidf_train, y_train)"
   ]
  },
  {
   "cell_type": "code",
   "execution_count": 23,
   "id": "56032e0c",
   "metadata": {},
   "outputs": [],
   "source": [
    "y_pred = classifier.predict(tfidf_test)"
   ]
  },
  {
   "cell_type": "markdown",
   "id": "dc80931c",
   "metadata": {},
   "source": [
    "### Building confusion matrix"
   ]
  },
  {
   "cell_type": "code",
   "execution_count": 24,
   "id": "35f47371",
   "metadata": {},
   "outputs": [
    {
     "name": "stdout",
     "output_type": "stream",
     "text": [
      "\n",
      "Confusion Matrix(XGBoost):\n",
      " [[3231  478]\n",
      " [ 675 3561]]\n"
     ]
    }
   ],
   "source": [
    "cm2 = confusion_matrix(y_pred, y_test)  #  Comparing results\n",
    "print(\"\\nConfusion Matrix(XGBoost):\\n\", cm2)"
   ]
  },
  {
   "cell_type": "code",
   "execution_count": 25,
   "id": "b2ad6360",
   "metadata": {},
   "outputs": [
    {
     "name": "stdout",
     "output_type": "stream",
     "text": [
      "\n",
      "Accuracy score (XGBoost): 0.8548772813089994\n"
     ]
    }
   ],
   "source": [
    "print(f\"\\nAccuracy score (XGBoost): {accuracy_score(y_test, y_pred)}\")"
   ]
  },
  {
   "cell_type": "markdown",
   "id": "06a25cdf",
   "metadata": {},
   "source": [
    "### Prediction"
   ]
  },
  {
   "cell_type": "code",
   "execution_count": 26,
   "id": "92f51674",
   "metadata": {},
   "outputs": [
    {
     "name": "stdout",
     "output_type": "stream",
     "text": [
      "Model predicted your sentiment as Negative.\n"
     ]
    }
   ],
   "source": [
    "# For an instance:\n",
    "#xgb_sentiment=['It was amazing!']\n",
    "#xgb_sentiment=['It was horrible!']\n",
    "\n",
    "xgb_sentiment = [\"A terrible movie as everyone has said. What made me laugh was the cameo appearance by Scott McNealy, giving an award to one of the murdered programmers in front of a wall of SUN logos. McNealy is the CEO of SUN Microsystem, a company that practically defines itself by its hatred of Microsoft. They have been instrumental in filing antitrust complaints against Microsoft. So, were they silly enough to think this bad movie would add fuel to that fire?<br /><br />There's no public record I see of SUN's involvement, but clearly the makers of this movie know Scott McNealy. An interesting mystery.\"]\n",
    "xgb_sentiment_trans = tfidf_vectorizer.transform(xgb_sentiment)\n",
    "xgb_pred = classifier.predict(xgb_sentiment_trans)\n",
    "\n",
    "print(f\"Model predicted your sentiment as {class_map[int(xgb_pred[0])]}.\")"
   ]
  },
  {
   "cell_type": "markdown",
   "id": "d1ee3d5f",
   "metadata": {},
   "source": [
    "### Save XGBoost model via Pickle"
   ]
  },
  {
   "cell_type": "code",
   "execution_count": 27,
   "id": "2b9822b9",
   "metadata": {},
   "outputs": [],
   "source": [
    "import pickle\n",
    "\n",
    "pickle_file = open('xgboost.pkl', 'ab')\n",
    "pickle.dump(classifier, pickle_file)                     \n",
    "pickle_file.close()"
   ]
  },
  {
   "cell_type": "code",
   "execution_count": null,
   "id": "01571dac",
   "metadata": {},
   "outputs": [],
   "source": []
  }
 ],
 "metadata": {
  "kernelspec": {
   "display_name": "Python 3 (ipykernel)",
   "language": "python",
   "name": "python3"
  },
  "language_info": {
   "codemirror_mode": {
    "name": "ipython",
    "version": 3
   },
   "file_extension": ".py",
   "mimetype": "text/x-python",
   "name": "python",
   "nbconvert_exporter": "python",
   "pygments_lexer": "ipython3",
   "version": "3.9.7"
  }
 },
 "nbformat": 4,
 "nbformat_minor": 5
}
